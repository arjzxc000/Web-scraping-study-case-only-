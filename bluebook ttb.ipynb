{
 "cells": [
  {
   "cell_type": "code",
   "execution_count": 1,
   "metadata": {},
   "outputs": [
    {
     "name": "stdout",
     "output_type": "stream",
     "text": [
      "Mozilla/5.0 (Windows NT 6.1; WOW64) AppleWebKit/537.36 (KHTML, like Gecko) Chrome/36.0.1985.67 Safari/537.36\n"
     ]
    }
   ],
   "source": [
    "import pandas as pd\n",
    "from selenium import webdriver\n",
    "from selenium.webdriver.chrome.options import Options\n",
    "from bs4 import BeautifulSoup\n",
    "options = Options()\n",
    "options.add_argument(\"window-size=1400,600\")\n",
    "from fake_useragent import UserAgent\n",
    "ua = UserAgent()\n",
    "a = ua.random\n",
    "user_agent = ua.random\n",
    "print(user_agent)"
   ]
  },
  {
   "cell_type": "code",
   "execution_count": 2,
   "metadata": {},
   "outputs": [],
   "source": [
    "from selenium.webdriver.support.ui import WebDriverWait\n",
    "from selenium.webdriver.common.by import By\n",
    "from selenium.webdriver.support import expected_conditions as EC\n",
    "from selenium.webdriver.common.keys import Keys\n",
    "import time\n",
    "from selenium.webdriver.support.ui import Select"
   ]
  },
  {
   "cell_type": "code",
   "execution_count": 3,
   "metadata": {},
   "outputs": [],
   "source": [
    "options.add_argument(f'user-agent={user_agent}')"
   ]
  },
  {
   "cell_type": "code",
   "execution_count": 4,
   "metadata": {},
   "outputs": [
    {
     "name": "stderr",
     "output_type": "stream",
     "text": [
      "C:\\Users\\Admin\\AppData\\Local\\Temp/ipykernel_14988/419496071.py:1: DeprecationWarning: executable_path has been deprecated, please pass in a Service object\n",
      "  driver = webdriver.Chrome(executable_path=r'D:\\Downloads\\chromedriver_win32\\chromedriver.exe', options=options)\n"
     ]
    }
   ],
   "source": [
    "driver = webdriver.Chrome(executable_path=r'D:\\Downloads\\chromedriver_win32\\chromedriver.exe', options=options)\n",
    "driver.maximize_window()\n",
    "driver.get('https://bluebook.ttbbank.com/search.asp?PageNo=1&selectType=FBA01A86C1140E9F55A25AD0DCF9049144AB57CF87827F2400047498EDC06FD9&selectBrand=9BD06354DF217CEF570BD86FDA0E238453554F31D98E39F752918F3156C9AAFB&selectGroup=&selectSubGroup=&selectGear=EE21C9D815E125A82878865EF737F6ACE35802EAFCC1A9FED35CED496D71C0C8&yearBegin=8F8FCBD51FEC99BB80D8E41FEC510569E6E5171EFD410D1DE6C3AA565B916073&yearFinal=422FBA94917DB194B7EAFD2E5D24DC84ED47C06725D063329F829B0CAB4FB9F7&txtBePrice=&txtFinalPrice=&PAGENEW=enable')"
   ]
  },
  {
   "cell_type": "code",
   "execution_count": 5,
   "metadata": {},
   "outputs": [],
   "source": [
    "html = driver.page_source\n",
    "s = BeautifulSoup(html,'html.parser')"
   ]
  },
  {
   "cell_type": "code",
   "execution_count": 6,
   "metadata": {},
   "outputs": [],
   "source": [
    "# click on first page\n",
    "WebDriverWait(driver,5).until(EC.element_to_be_clickable((By.XPATH, '//*[@id=\"DivTest\"]/div[2]/table/tbody/tr[1]/td[2]/a'))).click()\n"
   ]
  },
  {
   "cell_type": "code",
   "execution_count": 7,
   "metadata": {},
   "outputs": [],
   "source": [
    "select_type = ['รถกระบะ', 'รถเก๋ง', 'รถตู้']\n",
    "select_gear = ['Auto', 'Manual']\n"
   ]
  },
  {
   "cell_type": "code",
   "execution_count": 8,
   "metadata": {},
   "outputs": [
    {
     "name": "stderr",
     "output_type": "stream",
     "text": [
      "C:\\Users\\Admin\\AppData\\Local\\Temp/ipykernel_14988/4281444640.py:2: DeprecationWarning: find_element_by_* commands are deprecated. Please use find_element() instead\n",
      "  selectType = Select(driver.find_element_by_id('selectType'))\n"
     ]
    }
   ],
   "source": [
    "# select Type\n",
    "selectType = Select(driver.find_element_by_id('selectType'))\n",
    "# selectType.select_by_visible_text('รถกระบะ')\n"
   ]
  },
  {
   "cell_type": "code",
   "execution_count": 9,
   "metadata": {},
   "outputs": [
    {
     "name": "stderr",
     "output_type": "stream",
     "text": [
      "C:\\Users\\Admin\\AppData\\Local\\Temp/ipykernel_14988/1837777927.py:5: DeprecationWarning: find_element_by_* commands are deprecated. Please use find_element() instead\n",
      "  selectBrand = Select(driver.find_element_by_id('selectBrand'))\n"
     ]
    }
   ],
   "source": [
    "# select Brand\n",
    "html = driver.page_source\n",
    "s = BeautifulSoup(html,'html.parser')\n",
    "select_brand = [i.text for i in s.find_all('select',{'name':'selectBrand'})[0].find_all('option')][1:]\n",
    "selectBrand = Select(driver.find_element_by_id('selectBrand'))\n",
    "selectBrand.select_by_visible_text(select_brand[0])\n"
   ]
  },
  {
   "cell_type": "code",
   "execution_count": 10,
   "metadata": {},
   "outputs": [
    {
     "name": "stderr",
     "output_type": "stream",
     "text": [
      "C:\\Users\\Admin\\AppData\\Local\\Temp/ipykernel_14988/3760848340.py:2: DeprecationWarning: find_element_by_* commands are deprecated. Please use find_element() instead\n",
      "  selectGear = Select(driver.find_element_by_id('selectGear'))\n"
     ]
    }
   ],
   "source": [
    "# select Gear\n",
    "selectGear = Select(driver.find_element_by_id('selectGear'))\n",
    "selectGear.select_by_visible_text('Auto')\n"
   ]
  },
  {
   "cell_type": "code",
   "execution_count": 11,
   "metadata": {},
   "outputs": [
    {
     "name": "stderr",
     "output_type": "stream",
     "text": [
      "C:\\Users\\Admin\\AppData\\Local\\Temp/ipykernel_14988/1243416174.py:4: DeprecationWarning: find_element_by_* commands are deprecated. Please use find_element() instead\n",
      "  selectYearBegin = Select(driver.find_element_by_id('yearBegin'))\n"
     ]
    }
   ],
   "source": [
    "# select Year begin\n",
    "html = driver.page_source\n",
    "s = BeautifulSoup(html,'html.parser')\n",
    "selectYearBegin = Select(driver.find_element_by_id('yearBegin'))\n",
    "select_year_begin = [i.text for i in s.find_all('select',{'name':'yearBegin'})[0].find_all('option')][1:]\n",
    "selectYearBegin.select_by_index(1)"
   ]
  },
  {
   "cell_type": "code",
   "execution_count": 12,
   "metadata": {},
   "outputs": [
    {
     "name": "stderr",
     "output_type": "stream",
     "text": [
      "C:\\Users\\Admin\\AppData\\Local\\Temp/ipykernel_14988/3043787016.py:4: DeprecationWarning: find_element_by_* commands are deprecated. Please use find_element() instead\n",
      "  selectYearfinal = Select(driver.find_element_by_id('yearFinal'))\n"
     ]
    }
   ],
   "source": [
    "# select Year last\n",
    "html = driver.page_source\n",
    "s = BeautifulSoup(html,'html.parser')\n",
    "selectYearfinal = Select(driver.find_element_by_id('yearFinal'))\n",
    "select_year_final = [i.text for i    in s.find_all('select',{'name':'yearFinal'})[0].find_all('option')][1:]\n",
    "\n",
    "selectYearfinal.select_by_index(len(select_year_final))"
   ]
  },
  {
   "cell_type": "code",
   "execution_count": 13,
   "metadata": {},
   "outputs": [],
   "source": [
    "# click OK to find\n",
    "html = driver.page_source   \n",
    "s = BeautifulSoup(html,'html.parser')\n",
    "# \n",
    "WebDriverWait(driver,5).until(EC.element_to_be_clickable((By.XPATH, '//*[@id=\"Map222\"]/area[1]'))).click()\n"
   ]
  },
  {
   "cell_type": "code",
   "execution_count": 14,
   "metadata": {},
   "outputs": [
    {
     "data": {
      "text/plain": [
       "['detail_car.asp?P1=85E8700A55531C53F17064AEEFE97CD188C4BDBA9240473EFBBF99150617675D',\n",
       " 'detail_car.asp?P1=80F1553EE7C562D319778781BB2F8677742748C0E9A315DF4EDBBF7D8396B240',\n",
       " 'detail_car.asp?P1=4B6F6B4F5820DE484906564A256EFDF7B88636616FCBF62C713FB5B49280DD77',\n",
       " 'detail_car.asp?P1=06C953A5B68FA93D0FA766E28340D87EB76A8EFCFF2D26F96A4BB9F2D5F69827',\n",
       " 'detail_car.asp?P1=1F726958F5C70BAF56724815B6F71EE6D98AC7E771BB23E5291C8D90F9777E88',\n",
       " 'detail_car.asp?P1=5038C7C7669973F126C9AA3BE595DC4461AD1A8E009B570BB50257D8845A67F0',\n",
       " 'detail_car.asp?P1=4787142B000BA988FDA939CE89392F796F5CA1284BA5EF9253C83A228ED78765',\n",
       " 'detail_car.asp?P1=BA1DD0593D3347506C274DB0B284273761DF587805F17F601825973512AB3FB3',\n",
       " 'detail_car.asp?P1=7D64C1E33A97D1D7B11327AEC1C0D7B0ABD69930DEC82EC924582FFA4E2232DF',\n",
       " 'detail_car.asp?P1=39A82EC4BC6A93DC8057CA1FFC0B29BEE39F4A51DE00681A526E62430A60F1B8',\n",
       " 'detail_car.asp?P1=8512040FE9FE750CC494F9562AA2434D565BE7C3C16321E936986D168E30E198',\n",
       " 'detail_car.asp?P1=0636D3CE819C10C4551769880A89669A32B07E6EC6BD49F09FD91882A996B46C',\n",
       " 'detail_car.asp?P1=B987FBCFB3F4A696F7C33A00458D21483747AEE1219B180ACA67E7712B80D7F2',\n",
       " 'detail_car.asp?P1=3DA4E64E5A13F76BE739283A260F5C794E3C20EA278D1150FE432DFF98923C27',\n",
       " 'detail_car.asp?P1=C134F01335880D160F298A742F0BA418670BED52EA9E7C6982A33E34A004D5A2']"
      ]
     },
     "execution_count": 14,
     "metadata": {},
     "output_type": "execute_result"
    }
   ],
   "source": [
    "# link to next page in onclick fucntion\n",
    "rows = s.find_all('tr',{'style':'cursor:pointer '})\n",
    "\n",
    "links = [i['onclick'][11:-16] for i in rows]\n",
    "links"
   ]
  },
  {
   "cell_type": "code",
   "execution_count": 15,
   "metadata": {},
   "outputs": [
    {
     "data": {
      "text/plain": [
       "'string/detail_car.asp?P1=85E8700A55531C53F17064AEEFE97CD188C4BDBA9240473EFBBF99150617675D'"
      ]
     },
     "execution_count": 15,
     "metadata": {},
     "output_type": "execute_result"
    }
   ],
   "source": [
    "'string/'+links[0]"
   ]
  },
  {
   "cell_type": "code",
   "execution_count": 15,
   "metadata": {},
   "outputs": [],
   "source": [
    "import urllib.request\n",
    "# data = []\n",
    "# for i in links:\n",
    "#     url = 'https://bluebook.ttbbank.com/'+i\n",
    "#     url\n",
    "#     html_source = urllib.request.urlopen(url)\n",
    "#     l = BeautifulSoup(html_source,'html.parser')\n",
    "#     l.find_all('td',{'class':'font_normal_black'})\n",
    "#     detail_of_car = [i.text.strip() for i in l.find_all('td',{'class':'font_orange'})]\n",
    "#     data.append(detail_of_car)\n",
    "    "
   ]
  },
  {
   "cell_type": "code",
   "execution_count": 16,
   "metadata": {},
   "outputs": [
    {
     "data": {
      "text/plain": [
       "['ประเภทรถ:',\n",
       " 'ยี่ห้อ:',\n",
       " 'กลุ่ม:',\n",
       " 'รุ่นย่อย:',\n",
       " 'เกียร์:',\n",
       " 'ปี:',\n",
       " 'ราคากลางรถยนต์ใช้แล้ว']"
      ]
     },
     "execution_count": 16,
     "metadata": {},
     "output_type": "execute_result"
    }
   ],
   "source": [
    "url = 'https://bluebook.ttbbank.com/'+links[0]\n",
    "url\n",
    "html_source = urllib.request.urlopen(url)\n",
    "l = BeautifulSoup(html_source,'html.parser')\n",
    "l.find_all('td',{'class':'font_normal_black'})\n",
    "columns = [i.text.strip() for i in l.find_all('td',{'class':'font_normal_black'})]\n",
    "columns"
   ]
  },
  {
   "cell_type": "code",
   "execution_count": 18,
   "metadata": {},
   "outputs": [],
   "source": [
    "# dataframe = pd.DataFrame(data,columns=columns)"
   ]
  },
  {
   "cell_type": "code",
   "execution_count": 19,
   "metadata": {},
   "outputs": [],
   "source": [
    "# driver.find_element_by_partial_link_text('Next >').click()"
   ]
  },
  {
   "cell_type": "code",
   "execution_count": 17,
   "metadata": {},
   "outputs": [],
   "source": [
    "data = []"
   ]
  },
  {
   "cell_type": "code",
   "execution_count": 18,
   "metadata": {},
   "outputs": [],
   "source": [
    "import urllib.request"
   ]
  },
  {
   "cell_type": "code",
   "execution_count": 25,
   "metadata": {},
   "outputs": [
    {
     "name": "stdout",
     "output_type": "stream",
     "text": [
      "0\n"
     ]
    },
    {
     "name": "stderr",
     "output_type": "stream",
     "text": [
      "C:\\Users\\Admin\\AppData\\Local\\Temp/ipykernel_14988/3644353603.py:22: DeprecationWarning: find_element_by_* commands are deprecated. Please use find_element() instead\n",
      "  driver.find_element_by_xpath(\"//*[text()='Next >']\").click()\n"
     ]
    },
    {
     "ename": "NoSuchElementException",
     "evalue": "Message: no such element: Unable to locate element: {\"method\":\"xpath\",\"selector\":\"//*[text()='Next >']\"}\n  (Session info: chrome=96.0.4664.45)\nStacktrace:\nBacktrace:\n\tOrdinal0 [0x008A3AB3+2505395]\n\tOrdinal0 [0x0083AE41+2076225]\n\tOrdinal0 [0x00742498+1057944]\n\tOrdinal0 [0x0076CB74+1231732]\n\tOrdinal0 [0x00796D92+1404306]\n\tOrdinal0 [0x00785A2A+1333802]\n\tOrdinal0 [0x00795168+1397096]\n\tOrdinal0 [0x007858BB+1333435]\n\tOrdinal0 [0x007623E4+1188836]\n\tOrdinal0 [0x0076323F+1192511]\n\tGetHandleVerifier [0x00A2CB36+1554566]\n\tGetHandleVerifier [0x00AD4A0C+2242396]\n\tGetHandleVerifier [0x00930E0B+523099]\n\tGetHandleVerifier [0x0092FEB0+519168]\n\tOrdinal0 [0x008402FD+2097917]\n\tOrdinal0 [0x00844388+2114440]\n\tOrdinal0 [0x008444C2+2114754]\n\tOrdinal0 [0x0084E041+2154561]\n\tBaseThreadInitThunk [0x7792FA29+25]\n\tRtlGetAppContainerNamedObjectPath [0x77C57A9E+286]\n\tRtlGetAppContainerNamedObjectPath [0x77C57A6E+238]\n",
     "output_type": "error",
     "traceback": [
      "\u001b[1;31m---------------------------------------------------------------------------\u001b[0m",
      "\u001b[1;31mNoSuchElementException\u001b[0m                    Traceback (most recent call last)",
      "\u001b[1;32m~\\AppData\\Local\\Temp/ipykernel_14988/3644353603.py\u001b[0m in \u001b[0;36m<module>\u001b[1;34m\u001b[0m\n\u001b[0;32m     20\u001b[0m         \u001b[0mdetail_of_car\u001b[0m \u001b[1;33m=\u001b[0m \u001b[1;33m[\u001b[0m\u001b[0mi\u001b[0m\u001b[1;33m.\u001b[0m\u001b[0mtext\u001b[0m\u001b[1;33m.\u001b[0m\u001b[0mstrip\u001b[0m\u001b[1;33m(\u001b[0m\u001b[1;33m)\u001b[0m \u001b[1;32mfor\u001b[0m \u001b[0mi\u001b[0m \u001b[1;32min\u001b[0m \u001b[0ml\u001b[0m\u001b[1;33m.\u001b[0m\u001b[0mfind_all\u001b[0m\u001b[1;33m(\u001b[0m\u001b[1;34m'td'\u001b[0m\u001b[1;33m,\u001b[0m\u001b[1;33m{\u001b[0m\u001b[1;34m'class'\u001b[0m\u001b[1;33m:\u001b[0m\u001b[1;34m'font_orange'\u001b[0m\u001b[1;33m}\u001b[0m\u001b[1;33m)\u001b[0m\u001b[1;33m]\u001b[0m\u001b[1;33m\u001b[0m\u001b[1;33m\u001b[0m\u001b[0m\n\u001b[0;32m     21\u001b[0m         \u001b[0mdata\u001b[0m\u001b[1;33m.\u001b[0m\u001b[0mappend\u001b[0m\u001b[1;33m(\u001b[0m\u001b[0mdetail_of_car\u001b[0m\u001b[1;33m)\u001b[0m\u001b[1;33m\u001b[0m\u001b[1;33m\u001b[0m\u001b[0m\n\u001b[1;32m---> 22\u001b[1;33m     \u001b[0mdriver\u001b[0m\u001b[1;33m.\u001b[0m\u001b[0mfind_element_by_xpath\u001b[0m\u001b[1;33m(\u001b[0m\u001b[1;34m\"//*[text()='Next >']\"\u001b[0m\u001b[1;33m)\u001b[0m\u001b[1;33m.\u001b[0m\u001b[0mclick\u001b[0m\u001b[1;33m(\u001b[0m\u001b[1;33m)\u001b[0m\u001b[1;33m\u001b[0m\u001b[1;33m\u001b[0m\u001b[0m\n\u001b[0m\u001b[0;32m     23\u001b[0m     \u001b[1;31m# except:\u001b[0m\u001b[1;33m\u001b[0m\u001b[1;33m\u001b[0m\u001b[1;33m\u001b[0m\u001b[0m\n\u001b[0;32m     24\u001b[0m     \u001b[1;31m#     print(\"Have error\")\u001b[0m\u001b[1;33m\u001b[0m\u001b[1;33m\u001b[0m\u001b[1;33m\u001b[0m\u001b[0m\n",
      "\u001b[1;32m~\\anaconda3\\lib\\site-packages\\selenium\\webdriver\\remote\\webdriver.py\u001b[0m in \u001b[0;36mfind_element_by_xpath\u001b[1;34m(self, xpath)\u001b[0m\n\u001b[0;32m    512\u001b[0m             \u001b[0mstacklevel\u001b[0m\u001b[1;33m=\u001b[0m\u001b[1;36m2\u001b[0m\u001b[1;33m,\u001b[0m\u001b[1;33m\u001b[0m\u001b[1;33m\u001b[0m\u001b[0m\n\u001b[0;32m    513\u001b[0m         )\n\u001b[1;32m--> 514\u001b[1;33m         \u001b[1;32mreturn\u001b[0m \u001b[0mself\u001b[0m\u001b[1;33m.\u001b[0m\u001b[0mfind_element\u001b[0m\u001b[1;33m(\u001b[0m\u001b[0mby\u001b[0m\u001b[1;33m=\u001b[0m\u001b[0mBy\u001b[0m\u001b[1;33m.\u001b[0m\u001b[0mXPATH\u001b[0m\u001b[1;33m,\u001b[0m \u001b[0mvalue\u001b[0m\u001b[1;33m=\u001b[0m\u001b[0mxpath\u001b[0m\u001b[1;33m)\u001b[0m\u001b[1;33m\u001b[0m\u001b[1;33m\u001b[0m\u001b[0m\n\u001b[0m\u001b[0;32m    515\u001b[0m \u001b[1;33m\u001b[0m\u001b[0m\n\u001b[0;32m    516\u001b[0m     \u001b[1;32mdef\u001b[0m \u001b[0mfind_elements_by_xpath\u001b[0m\u001b[1;33m(\u001b[0m\u001b[0mself\u001b[0m\u001b[1;33m,\u001b[0m \u001b[0mxpath\u001b[0m\u001b[1;33m)\u001b[0m \u001b[1;33m->\u001b[0m \u001b[0mWebElement\u001b[0m\u001b[1;33m:\u001b[0m\u001b[1;33m\u001b[0m\u001b[1;33m\u001b[0m\u001b[0m\n",
      "\u001b[1;32m~\\anaconda3\\lib\\site-packages\\selenium\\webdriver\\remote\\webdriver.py\u001b[0m in \u001b[0;36mfind_element\u001b[1;34m(self, by, value)\u001b[0m\n\u001b[0;32m   1236\u001b[0m             \u001b[0mvalue\u001b[0m \u001b[1;33m=\u001b[0m \u001b[1;34m'[name=\"%s\"]'\u001b[0m \u001b[1;33m%\u001b[0m \u001b[0mvalue\u001b[0m\u001b[1;33m\u001b[0m\u001b[1;33m\u001b[0m\u001b[0m\n\u001b[0;32m   1237\u001b[0m \u001b[1;33m\u001b[0m\u001b[0m\n\u001b[1;32m-> 1238\u001b[1;33m         return self.execute(Command.FIND_ELEMENT, {\n\u001b[0m\u001b[0;32m   1239\u001b[0m             \u001b[1;34m'using'\u001b[0m\u001b[1;33m:\u001b[0m \u001b[0mby\u001b[0m\u001b[1;33m,\u001b[0m\u001b[1;33m\u001b[0m\u001b[1;33m\u001b[0m\u001b[0m\n\u001b[0;32m   1240\u001b[0m             'value': value})['value']\n",
      "\u001b[1;32m~\\anaconda3\\lib\\site-packages\\selenium\\webdriver\\remote\\webdriver.py\u001b[0m in \u001b[0;36mexecute\u001b[1;34m(self, driver_command, params)\u001b[0m\n\u001b[0;32m    416\u001b[0m         \u001b[0mresponse\u001b[0m \u001b[1;33m=\u001b[0m \u001b[0mself\u001b[0m\u001b[1;33m.\u001b[0m\u001b[0mcommand_executor\u001b[0m\u001b[1;33m.\u001b[0m\u001b[0mexecute\u001b[0m\u001b[1;33m(\u001b[0m\u001b[0mdriver_command\u001b[0m\u001b[1;33m,\u001b[0m \u001b[0mparams\u001b[0m\u001b[1;33m)\u001b[0m\u001b[1;33m\u001b[0m\u001b[1;33m\u001b[0m\u001b[0m\n\u001b[0;32m    417\u001b[0m         \u001b[1;32mif\u001b[0m \u001b[0mresponse\u001b[0m\u001b[1;33m:\u001b[0m\u001b[1;33m\u001b[0m\u001b[1;33m\u001b[0m\u001b[0m\n\u001b[1;32m--> 418\u001b[1;33m             \u001b[0mself\u001b[0m\u001b[1;33m.\u001b[0m\u001b[0merror_handler\u001b[0m\u001b[1;33m.\u001b[0m\u001b[0mcheck_response\u001b[0m\u001b[1;33m(\u001b[0m\u001b[0mresponse\u001b[0m\u001b[1;33m)\u001b[0m\u001b[1;33m\u001b[0m\u001b[1;33m\u001b[0m\u001b[0m\n\u001b[0m\u001b[0;32m    419\u001b[0m             response['value'] = self._unwrap_value(\n\u001b[0;32m    420\u001b[0m                 response.get('value', None))\n",
      "\u001b[1;32m~\\anaconda3\\lib\\site-packages\\selenium\\webdriver\\remote\\errorhandler.py\u001b[0m in \u001b[0;36mcheck_response\u001b[1;34m(self, response)\u001b[0m\n\u001b[0;32m    241\u001b[0m                 \u001b[0malert_text\u001b[0m \u001b[1;33m=\u001b[0m \u001b[0mvalue\u001b[0m\u001b[1;33m[\u001b[0m\u001b[1;34m'alert'\u001b[0m\u001b[1;33m]\u001b[0m\u001b[1;33m.\u001b[0m\u001b[0mget\u001b[0m\u001b[1;33m(\u001b[0m\u001b[1;34m'text'\u001b[0m\u001b[1;33m)\u001b[0m\u001b[1;33m\u001b[0m\u001b[1;33m\u001b[0m\u001b[0m\n\u001b[0;32m    242\u001b[0m             \u001b[1;32mraise\u001b[0m \u001b[0mexception_class\u001b[0m\u001b[1;33m(\u001b[0m\u001b[0mmessage\u001b[0m\u001b[1;33m,\u001b[0m \u001b[0mscreen\u001b[0m\u001b[1;33m,\u001b[0m \u001b[0mstacktrace\u001b[0m\u001b[1;33m,\u001b[0m \u001b[0malert_text\u001b[0m\u001b[1;33m)\u001b[0m  \u001b[1;31m# type: ignore[call-arg]  # mypy is not smart enough here\u001b[0m\u001b[1;33m\u001b[0m\u001b[1;33m\u001b[0m\u001b[0m\n\u001b[1;32m--> 243\u001b[1;33m         \u001b[1;32mraise\u001b[0m \u001b[0mexception_class\u001b[0m\u001b[1;33m(\u001b[0m\u001b[0mmessage\u001b[0m\u001b[1;33m,\u001b[0m \u001b[0mscreen\u001b[0m\u001b[1;33m,\u001b[0m \u001b[0mstacktrace\u001b[0m\u001b[1;33m)\u001b[0m\u001b[1;33m\u001b[0m\u001b[1;33m\u001b[0m\u001b[0m\n\u001b[0m\u001b[0;32m    244\u001b[0m \u001b[1;33m\u001b[0m\u001b[0m\n\u001b[0;32m    245\u001b[0m     \u001b[1;32mdef\u001b[0m \u001b[0m_value_or_default\u001b[0m\u001b[1;33m(\u001b[0m\u001b[0mself\u001b[0m\u001b[1;33m,\u001b[0m \u001b[0mobj\u001b[0m\u001b[1;33m:\u001b[0m \u001b[0mMapping\u001b[0m\u001b[1;33m[\u001b[0m\u001b[0m_KT\u001b[0m\u001b[1;33m,\u001b[0m \u001b[0m_VT\u001b[0m\u001b[1;33m]\u001b[0m\u001b[1;33m,\u001b[0m \u001b[0mkey\u001b[0m\u001b[1;33m:\u001b[0m \u001b[0m_KT\u001b[0m\u001b[1;33m,\u001b[0m \u001b[0mdefault\u001b[0m\u001b[1;33m:\u001b[0m \u001b[0m_VT\u001b[0m\u001b[1;33m)\u001b[0m \u001b[1;33m->\u001b[0m \u001b[0m_VT\u001b[0m\u001b[1;33m:\u001b[0m\u001b[1;33m\u001b[0m\u001b[1;33m\u001b[0m\u001b[0m\n",
      "\u001b[1;31mNoSuchElementException\u001b[0m: Message: no such element: Unable to locate element: {\"method\":\"xpath\",\"selector\":\"//*[text()='Next >']\"}\n  (Session info: chrome=96.0.4664.45)\nStacktrace:\nBacktrace:\n\tOrdinal0 [0x008A3AB3+2505395]\n\tOrdinal0 [0x0083AE41+2076225]\n\tOrdinal0 [0x00742498+1057944]\n\tOrdinal0 [0x0076CB74+1231732]\n\tOrdinal0 [0x00796D92+1404306]\n\tOrdinal0 [0x00785A2A+1333802]\n\tOrdinal0 [0x00795168+1397096]\n\tOrdinal0 [0x007858BB+1333435]\n\tOrdinal0 [0x007623E4+1188836]\n\tOrdinal0 [0x0076323F+1192511]\n\tGetHandleVerifier [0x00A2CB36+1554566]\n\tGetHandleVerifier [0x00AD4A0C+2242396]\n\tGetHandleVerifier [0x00930E0B+523099]\n\tGetHandleVerifier [0x0092FEB0+519168]\n\tOrdinal0 [0x008402FD+2097917]\n\tOrdinal0 [0x00844388+2114440]\n\tOrdinal0 [0x008444C2+2114754]\n\tOrdinal0 [0x0084E041+2154561]\n\tBaseThreadInitThunk [0x7792FA29+25]\n\tRtlGetAppContainerNamedObjectPath [0x77C57A9E+286]\n\tRtlGetAppContainerNamedObjectPath [0x77C57A6E+238]\n"
     ]
    }
   ],
   "source": [
    "for i in range(96):\n",
    "    print(i)\n",
    "    # try:\n",
    "    # click on Next > button\n",
    "    # WebDriverWait(driver,5).until(EC.element_to_be_clickable((By.XPATH, \"//*[text()='Next >'\"))).click()\n",
    "    # reset on new page html code\n",
    "    html = driver.page_source\n",
    "    s = BeautifulSoup(html,'html.parser')\n",
    "    # get link from every car data\n",
    "    rows = s.find_all('tr',{'style':'cursor:pointer '})\n",
    "    links = [i['onclick'][11:-16] for i in rows]\n",
    "     \n",
    "    for link in links:\n",
    "        url = 'https://bluebook.ttbbank.com/'+link\n",
    "        time.sleep(4)\n",
    "        html_source = urllib.request.urlopen(url)\n",
    "        \n",
    "        l = BeautifulSoup(html_source,'html.parser')\n",
    "        l.find_all('td',{'class':'font_normal_black'})\n",
    "        detail_of_car = [i.text.strip() for i in l.find_all('td',{'class':'font_orange'})]\n",
    "        data.append(detail_of_car)\n",
    "    driver.find_element_by_xpath(\"//*[text()='Next >']\").click()\n",
    "    # except:\n",
    "    #     print(\"Have error\")\n",
    "    #     rows = s.find_all('tr',{'style':'cursor:pointer '})\n",
    "    #     if len(rows) != 15:\n",
    "    #         break"
   ]
  },
  {
   "cell_type": "code",
   "execution_count": 93,
   "metadata": {},
   "outputs": [
    {
     "data": {
      "text/html": [
       "<div>\n",
       "<style scoped>\n",
       "    .dataframe tbody tr th:only-of-type {\n",
       "        vertical-align: middle;\n",
       "    }\n",
       "\n",
       "    .dataframe tbody tr th {\n",
       "        vertical-align: top;\n",
       "    }\n",
       "\n",
       "    .dataframe thead th {\n",
       "        text-align: right;\n",
       "    }\n",
       "</style>\n",
       "<table border=\"1\" class=\"dataframe\">\n",
       "  <thead>\n",
       "    <tr style=\"text-align: right;\">\n",
       "      <th></th>\n",
       "      <th>ประเภทรถ:</th>\n",
       "      <th>ยี่ห้อ:</th>\n",
       "      <th>กลุ่ม:</th>\n",
       "      <th>รุ่นย่อย:</th>\n",
       "      <th>เกียร์:</th>\n",
       "      <th>ปี:</th>\n",
       "      <th>ราคากลางรถยนต์ใช้แล้ว</th>\n",
       "    </tr>\n",
       "  </thead>\n",
       "  <tbody>\n",
       "    <tr>\n",
       "      <th>0</th>\n",
       "      <td>รถเก๋ง</td>\n",
       "      <td>Chevrolet</td>\n",
       "      <td>Allroader</td>\n",
       "      <td>Allroader 3.0</td>\n",
       "      <td>Auto</td>\n",
       "      <td>2007</td>\n",
       "      <td>200,000 บาท</td>\n",
       "    </tr>\n",
       "    <tr>\n",
       "      <th>1</th>\n",
       "      <td>รถเก๋ง</td>\n",
       "      <td>Chevrolet</td>\n",
       "      <td>Allroader</td>\n",
       "      <td>Allroader 3.0</td>\n",
       "      <td>Auto</td>\n",
       "      <td>2008</td>\n",
       "      <td>210,000 บาท</td>\n",
       "    </tr>\n",
       "    <tr>\n",
       "      <th>2</th>\n",
       "      <td>รถเก๋ง</td>\n",
       "      <td>Chevrolet</td>\n",
       "      <td>Allroader</td>\n",
       "      <td>Allroader 3.0 (MY08)</td>\n",
       "      <td>Auto</td>\n",
       "      <td>2008</td>\n",
       "      <td>230,000 บาท</td>\n",
       "    </tr>\n",
       "    <tr>\n",
       "      <th>3</th>\n",
       "      <td>รถเก๋ง</td>\n",
       "      <td>Chevrolet</td>\n",
       "      <td>Allroader</td>\n",
       "      <td>Allroader 3.0 (MY08)</td>\n",
       "      <td>Auto</td>\n",
       "      <td>2009</td>\n",
       "      <td>240,000 บาท</td>\n",
       "    </tr>\n",
       "    <tr>\n",
       "      <th>4</th>\n",
       "      <td>รถเก๋ง</td>\n",
       "      <td>Chevrolet</td>\n",
       "      <td>Allroader</td>\n",
       "      <td>Allroader 3.0 (MY08)</td>\n",
       "      <td>Auto</td>\n",
       "      <td>2010</td>\n",
       "      <td>250,000 บาท</td>\n",
       "    </tr>\n",
       "    <tr>\n",
       "      <th>...</th>\n",
       "      <td>...</td>\n",
       "      <td>...</td>\n",
       "      <td>...</td>\n",
       "      <td>...</td>\n",
       "      <td>...</td>\n",
       "      <td>...</td>\n",
       "      <td>...</td>\n",
       "    </tr>\n",
       "    <tr>\n",
       "      <th>2133</th>\n",
       "      <td>รถเก๋ง</td>\n",
       "      <td>Toyota</td>\n",
       "      <td>Yaris ATIV</td>\n",
       "      <td>Yaris ATIV 1.2 Entry (MY20)</td>\n",
       "      <td>Auto</td>\n",
       "      <td>2021</td>\n",
       "      <td>460,000 บาท</td>\n",
       "    </tr>\n",
       "    <tr>\n",
       "      <th>2134</th>\n",
       "      <td>รถเก๋ง</td>\n",
       "      <td>Toyota</td>\n",
       "      <td>Yaris ATIV</td>\n",
       "      <td>Yaris ATIV 1.2 Entry (MY20) (MNC)</td>\n",
       "      <td>Auto</td>\n",
       "      <td>2021</td>\n",
       "      <td>475,000 บาท</td>\n",
       "    </tr>\n",
       "    <tr>\n",
       "      <th>2135</th>\n",
       "      <td>รถเก๋ง</td>\n",
       "      <td>Toyota</td>\n",
       "      <td>Yaris ATIV</td>\n",
       "      <td>Yaris ATIV 1.2 G</td>\n",
       "      <td>Auto</td>\n",
       "      <td>2017</td>\n",
       "      <td>440,000 บาท</td>\n",
       "    </tr>\n",
       "    <tr>\n",
       "      <th>2136</th>\n",
       "      <td>รถเก๋ง</td>\n",
       "      <td>Toyota</td>\n",
       "      <td>Yaris ATIV</td>\n",
       "      <td>Yaris ATIV 1.2 G</td>\n",
       "      <td>Auto</td>\n",
       "      <td>2018</td>\n",
       "      <td>460,000 บาท</td>\n",
       "    </tr>\n",
       "    <tr>\n",
       "      <th>2137</th>\n",
       "      <td>รถเก๋ง</td>\n",
       "      <td>Toyota</td>\n",
       "      <td>Yaris ATIV</td>\n",
       "      <td>Yaris ATIV 1.2 G</td>\n",
       "      <td>Auto</td>\n",
       "      <td>2019</td>\n",
       "      <td>480,000 บาท</td>\n",
       "    </tr>\n",
       "  </tbody>\n",
       "</table>\n",
       "<p>2138 rows × 7 columns</p>\n",
       "</div>"
      ],
      "text/plain": [
       "     ประเภทรถ:    ยี่ห้อ:      กลุ่ม:                          รุ่นย่อย:  \\\n",
       "0       รถเก๋ง  Chevrolet   Allroader                      Allroader 3.0   \n",
       "1       รถเก๋ง  Chevrolet   Allroader                      Allroader 3.0   \n",
       "2       รถเก๋ง  Chevrolet   Allroader               Allroader 3.0 (MY08)   \n",
       "3       รถเก๋ง  Chevrolet   Allroader               Allroader 3.0 (MY08)   \n",
       "4       รถเก๋ง  Chevrolet   Allroader               Allroader 3.0 (MY08)   \n",
       "...        ...        ...         ...                                ...   \n",
       "2133    รถเก๋ง     Toyota  Yaris ATIV        Yaris ATIV 1.2 Entry (MY20)   \n",
       "2134    รถเก๋ง     Toyota  Yaris ATIV  Yaris ATIV 1.2 Entry (MY20) (MNC)   \n",
       "2135    รถเก๋ง     Toyota  Yaris ATIV                   Yaris ATIV 1.2 G   \n",
       "2136    รถเก๋ง     Toyota  Yaris ATIV                   Yaris ATIV 1.2 G   \n",
       "2137    รถเก๋ง     Toyota  Yaris ATIV                   Yaris ATIV 1.2 G   \n",
       "\n",
       "     เกียร์:   ปี: ราคากลางรถยนต์ใช้แล้ว  \n",
       "0       Auto  2007           200,000 บาท  \n",
       "1       Auto  2008           210,000 บาท  \n",
       "2       Auto  2008           230,000 บาท  \n",
       "3       Auto  2009           240,000 บาท  \n",
       "4       Auto  2010           250,000 บาท  \n",
       "...      ...   ...                   ...  \n",
       "2133    Auto  2021           460,000 บาท  \n",
       "2134    Auto  2021           475,000 บาท  \n",
       "2135    Auto  2017           440,000 บาท  \n",
       "2136    Auto  2018           460,000 บาท  \n",
       "2137    Auto  2019           480,000 บาท  \n",
       "\n",
       "[2138 rows x 7 columns]"
      ]
     },
     "execution_count": 93,
     "metadata": {},
     "output_type": "execute_result"
    }
   ],
   "source": [
    "dataframe = pd.DataFrame(data,columns=columns)\n",
    "dataframe = dataframe.drop_duplicates()\n",
    "dataframe"
   ]
  },
  {
   "cell_type": "code",
   "execution_count": 94,
   "metadata": {},
   "outputs": [],
   "source": [
    "# dataframe.to_excel('Bluebook TTB/Bluebook ttb Chevrolet and Toyota.xlsx')"
   ]
  },
  {
   "cell_type": "code",
   "execution_count": 20,
   "metadata": {},
   "outputs": [
    {
     "data": {
      "text/plain": [
       "['รถเก๋ง']"
      ]
     },
     "execution_count": 20,
     "metadata": {},
     "output_type": "execute_result"
    }
   ],
   "source": [
    "select_type[1:2]"
   ]
  },
  {
   "cell_type": "code",
   "execution_count": 29,
   "metadata": {},
   "outputs": [
    {
     "name": "stderr",
     "output_type": "stream",
     "text": [
      "C:\\Users\\Admin\\AppData\\Local\\Temp/ipykernel_14988/2824057449.py:1: DeprecationWarning: find_element_by_* commands are deprecated. Please use find_element() instead\n",
      "  driver.find_element_by_xpath(\"//*[text()='Last >>']\").click()\n"
     ]
    }
   ],
   "source": [
    "# driver.find_element_by_xpath(\"//*[text()='Last >>']\").click()"
   ]
  },
  {
   "cell_type": "code",
   "execution_count": 30,
   "metadata": {},
   "outputs": [
    {
     "name": "stdout",
     "output_type": "stream",
     "text": [
      "รถเก๋ง\n",
      "Audi\n"
     ]
    },
    {
     "name": "stderr",
     "output_type": "stream",
     "text": [
      "C:\\Users\\Admin\\AppData\\Local\\Temp/ipykernel_14988/1510150237.py:4: DeprecationWarning: find_element_by_* commands are deprecated. Please use find_element() instead\n",
      "  selectType = Select(driver.find_element_by_id('selectType'))\n",
      "C:\\Users\\Admin\\AppData\\Local\\Temp/ipykernel_14988/1510150237.py:12: DeprecationWarning: find_element_by_* commands are deprecated. Please use find_element() instead\n",
      "  selectBrand = Select(driver.find_element_by_id('selectBrand'))\n",
      "C:\\Users\\Admin\\AppData\\Local\\Temp/ipykernel_14988/1510150237.py:15: DeprecationWarning: find_element_by_* commands are deprecated. Please use find_element() instead\n",
      "  selectGear = Select(driver.find_element_by_id('selectGear'))\n",
      "C:\\Users\\Admin\\AppData\\Local\\Temp/ipykernel_14988/1510150237.py:21: DeprecationWarning: find_element_by_* commands are deprecated. Please use find_element() instead\n",
      "  selectYearBegin = Select(driver.find_element_by_id('yearBegin'))\n",
      "C:\\Users\\Admin\\AppData\\Local\\Temp/ipykernel_14988/1510150237.py:27: DeprecationWarning: find_element_by_* commands are deprecated. Please use find_element() instead\n",
      "  selectYearfinal = Select(driver.find_element_by_id('yearFinal'))\n"
     ]
    },
    {
     "name": "stdout",
     "output_type": "stream",
     "text": [
      "0\n"
     ]
    },
    {
     "name": "stderr",
     "output_type": "stream",
     "text": [
      "C:\\Users\\Admin\\AppData\\Local\\Temp/ipykernel_14988/1510150237.py:40: DeprecationWarning: find_element_by_* commands are deprecated. Please use find_element() instead\n",
      "  driver.find_element_by_xpath(\"//*[text()='Last >>']\").click()\n"
     ]
    },
    {
     "name": "stdout",
     "output_type": "stream",
     "text": [
      "1\n",
      "BMW\n",
      "0\n",
      "1\n",
      "Chevrolet\n",
      "0\n",
      "1\n",
      "Ford\n",
      "0\n",
      "1\n",
      "Haval\n",
      "0\n",
      "Honda\n",
      "0\n",
      "1\n",
      "Hyundai\n",
      "0\n",
      "1\n",
      "Isuzu\n",
      "0\n",
      "1\n",
      "Kia\n",
      "0\n",
      "1\n",
      "Land Rover\n",
      "0\n",
      "1\n",
      "Mazda\n",
      "0\n",
      "1\n",
      "Mercedes-Benz\n",
      "0\n",
      "1\n",
      "MG\n",
      "0\n",
      "1\n",
      "Mini\n",
      "0\n",
      "1\n",
      "Mitsubishi\n",
      "0\n",
      "1\n",
      "Nissan\n",
      "0\n",
      "1\n",
      "Peugeot\n",
      "0\n",
      "1\n",
      "Proton\n",
      "0\n",
      "1\n",
      "Subaru\n",
      "0\n",
      "1\n",
      "Suzuki\n",
      "0\n",
      "1\n",
      "Toyota\n",
      "0\n",
      "1\n",
      "Volkswagen\n",
      "0\n",
      "1\n",
      "Volvo\n",
      "0\n",
      "1\n"
     ]
    }
   ],
   "source": [
    "for type in select_type[1:2]:\n",
    "    # select Type\n",
    "    print(type)\n",
    "    selectType = Select(driver.find_element_by_id('selectType'))\n",
    "    selectType.select_by_visible_text(type)\n",
    "    html = driver.page_source\n",
    "    s = BeautifulSoup(html,'html.parser')\n",
    "    select_brand = [i.text for i in s.find_all('select',{'name':'selectBrand'})[0].find_all('option')][1:]\n",
    "    for brand in select_brand:\n",
    "        print(brand)\n",
    "        # select Brand\n",
    "        selectBrand = Select(driver.find_element_by_id('selectBrand'))\n",
    "        selectBrand.select_by_visible_text(brand)\n",
    "        # select Gear\n",
    "        selectGear = Select(driver.find_element_by_id('selectGear'))\n",
    "        selectGear.select_by_visible_text('Auto')\n",
    "        time.sleep(1.5)\n",
    "        # select Year begin\n",
    "        html = driver.page_source\n",
    "        s = BeautifulSoup(html,'html.parser')\n",
    "        selectYearBegin = Select(driver.find_element_by_id('yearBegin'))\n",
    "        select_year_begin = [i.text for i in s.find_all('select',{'name':'yearBegin'})[0].find_all('option')][1:]\n",
    "        selectYearBegin.select_by_index(1)\n",
    "        # select Year last\n",
    "        html = driver.page_source\n",
    "        s = BeautifulSoup(html,'html.parser')\n",
    "        selectYearfinal = Select(driver.find_element_by_id('yearFinal'))\n",
    "        select_year_final = [i.text for i    in s.find_all('select',{'name':'yearFinal'})[0].find_all('option')][1:]\n",
    "        selectYearfinal.select_by_index(len(select_year_final))\n",
    "        # click OK to find\n",
    "        html = driver.page_source\n",
    "        s = BeautifulSoup(html,'html.parser')\n",
    "        WebDriverWait(driver,5).until(EC.element_to_be_clickable((By.XPATH, '//*[@id=\"Map222\"]/area[1]'))).click()\n",
    "        # loop for selecting a car detail\n",
    "        for i in range(110):\n",
    "            print(i)\n",
    "            try:\n",
    "                # click on Next > button\n",
    "                # WebDriverWait(driver,5).until(EC.element_to_be_clickable((By.XPATH, \"//*[text()='Next >'\"))).click()\n",
    "                driver.find_element_by_xpath(\"//*[text()='Last >>']\").click()\n",
    "                html = driver.page_source\n",
    "                s = BeautifulSoup(html,'html.parser')\n",
    "                # get link from every car data\n",
    "                rows = s.find_all('tr',{'style':'cursor:pointer '})\n",
    "                links = [i['onclick'][11:-16] for i in rows]\n",
    "                \n",
    "                for link in links:\n",
    "                    url = 'https://bluebook.ttbbank.com/'+link\n",
    "                    \n",
    "                    time.sleep(4)\n",
    "                    \n",
    "                    html_source = urllib.request.urlopen(url)\n",
    "                    l = BeautifulSoup(html_source,'html.parser')\n",
    "                    l.find_all('td',{'class':'font_normal_black'})\n",
    "                    detail_of_car = [i.text.strip() for i in l.find_all('td',{'class':'font_orange'})]\n",
    "                    data.append(detail_of_car)\n",
    "            except:\n",
    "                break"
   ]
  },
  {
   "cell_type": "code",
   "execution_count": 31,
   "metadata": {},
   "outputs": [
    {
     "data": {
      "text/html": [
       "<div>\n",
       "<style scoped>\n",
       "    .dataframe tbody tr th:only-of-type {\n",
       "        vertical-align: middle;\n",
       "    }\n",
       "\n",
       "    .dataframe tbody tr th {\n",
       "        vertical-align: top;\n",
       "    }\n",
       "\n",
       "    .dataframe thead th {\n",
       "        text-align: right;\n",
       "    }\n",
       "</style>\n",
       "<table border=\"1\" class=\"dataframe\">\n",
       "  <thead>\n",
       "    <tr style=\"text-align: right;\">\n",
       "      <th></th>\n",
       "      <th>ประเภทรถ:</th>\n",
       "      <th>ยี่ห้อ:</th>\n",
       "      <th>กลุ่ม:</th>\n",
       "      <th>รุ่นย่อย:</th>\n",
       "      <th>เกียร์:</th>\n",
       "      <th>ปี:</th>\n",
       "      <th>ราคากลางรถยนต์ใช้แล้ว</th>\n",
       "    </tr>\n",
       "  </thead>\n",
       "  <tbody>\n",
       "    <tr>\n",
       "      <th>0</th>\n",
       "      <td>รถเก๋ง</td>\n",
       "      <td>Audi</td>\n",
       "      <td>A1</td>\n",
       "      <td>A1 1.5 35 TFSI Sportback S-Line (CBU) (MY19)</td>\n",
       "      <td>Auto</td>\n",
       "      <td>2019</td>\n",
       "      <td>1,450,000 บาท</td>\n",
       "    </tr>\n",
       "    <tr>\n",
       "      <th>1</th>\n",
       "      <td>รถเก๋ง</td>\n",
       "      <td>Audi</td>\n",
       "      <td>A1</td>\n",
       "      <td>A1 1.5 35 TFSI Sportback S-Line (CBU) (MY19)</td>\n",
       "      <td>Auto</td>\n",
       "      <td>2020</td>\n",
       "      <td>1,500,000 บาท</td>\n",
       "    </tr>\n",
       "    <tr>\n",
       "      <th>2</th>\n",
       "      <td>รถเก๋ง</td>\n",
       "      <td>Audi</td>\n",
       "      <td>A1</td>\n",
       "      <td>A1 1.5 35 TFSI Sportback S-Line (CBU) (MY19)</td>\n",
       "      <td>Auto</td>\n",
       "      <td>2021</td>\n",
       "      <td>1,550,000 บาท</td>\n",
       "    </tr>\n",
       "    <tr>\n",
       "      <th>3</th>\n",
       "      <td>รถเก๋ง</td>\n",
       "      <td>Audi</td>\n",
       "      <td>A3</td>\n",
       "      <td>A3 1.4 TFSI</td>\n",
       "      <td>Auto</td>\n",
       "      <td>2016</td>\n",
       "      <td>950,000 บาท</td>\n",
       "    </tr>\n",
       "    <tr>\n",
       "      <th>4</th>\n",
       "      <td>รถเก๋ง</td>\n",
       "      <td>Audi</td>\n",
       "      <td>A3</td>\n",
       "      <td>A3 1.4 TFSI</td>\n",
       "      <td>Auto</td>\n",
       "      <td>2017</td>\n",
       "      <td>1,000,000 บาท</td>\n",
       "    </tr>\n",
       "    <tr>\n",
       "      <th>...</th>\n",
       "      <td>...</td>\n",
       "      <td>...</td>\n",
       "      <td>...</td>\n",
       "      <td>...</td>\n",
       "      <td>...</td>\n",
       "      <td>...</td>\n",
       "      <td>...</td>\n",
       "    </tr>\n",
       "    <tr>\n",
       "      <th>9870</th>\n",
       "      <td>รถเก๋ง</td>\n",
       "      <td>Volvo</td>\n",
       "      <td>XC90</td>\n",
       "      <td>XC90 Recharge 2.0 T8 Plug-in Hybrid AWD Inscri...</td>\n",
       "      <td>Auto</td>\n",
       "      <td>2021</td>\n",
       "      <td>3,750,000 บาท</td>\n",
       "    </tr>\n",
       "    <tr>\n",
       "      <th>9871</th>\n",
       "      <td>รถเก๋ง</td>\n",
       "      <td>Volvo</td>\n",
       "      <td>XC90</td>\n",
       "      <td>XC90 Recharge 2.0 T8 Plug-in Hybrid AWD R-Desi...</td>\n",
       "      <td>Auto</td>\n",
       "      <td>2020</td>\n",
       "      <td>3,600,000 บาท</td>\n",
       "    </tr>\n",
       "    <tr>\n",
       "      <th>9872</th>\n",
       "      <td>รถเก๋ง</td>\n",
       "      <td>Volvo</td>\n",
       "      <td>XC90</td>\n",
       "      <td>XC90 Recharge 2.0 T8 Plug-in Hybrid AWD R-Desi...</td>\n",
       "      <td>Auto</td>\n",
       "      <td>2021</td>\n",
       "      <td>3,750,000 บาท</td>\n",
       "    </tr>\n",
       "    <tr>\n",
       "      <th>9873</th>\n",
       "      <td>รถเก๋ง</td>\n",
       "      <td>Volvo</td>\n",
       "      <td>XC90</td>\n",
       "      <td>XC90 Recharge 2.0 T8 Plug-in Hybrid AWD R-Desi...</td>\n",
       "      <td>Auto</td>\n",
       "      <td>2020</td>\n",
       "      <td>3,100,000 บาท</td>\n",
       "    </tr>\n",
       "    <tr>\n",
       "      <th>9874</th>\n",
       "      <td>รถเก๋ง</td>\n",
       "      <td>Volvo</td>\n",
       "      <td>XC90</td>\n",
       "      <td>XC90 Recharge 2.0 T8 Plug-in Hybrid AWD R-Desi...</td>\n",
       "      <td>Auto</td>\n",
       "      <td>2021</td>\n",
       "      <td>3,250,000 บาท</td>\n",
       "    </tr>\n",
       "  </tbody>\n",
       "</table>\n",
       "<p>9867 rows × 7 columns</p>\n",
       "</div>"
      ],
      "text/plain": [
       "     ประเภทรถ: ยี่ห้อ: กลุ่ม:  \\\n",
       "0       รถเก๋ง    Audi     A1   \n",
       "1       รถเก๋ง    Audi     A1   \n",
       "2       รถเก๋ง    Audi     A1   \n",
       "3       รถเก๋ง    Audi     A3   \n",
       "4       รถเก๋ง    Audi     A3   \n",
       "...        ...     ...    ...   \n",
       "9870    รถเก๋ง   Volvo   XC90   \n",
       "9871    รถเก๋ง   Volvo   XC90   \n",
       "9872    รถเก๋ง   Volvo   XC90   \n",
       "9873    รถเก๋ง   Volvo   XC90   \n",
       "9874    รถเก๋ง   Volvo   XC90   \n",
       "\n",
       "                                              รุ่นย่อย: เกียร์:   ปี:  \\\n",
       "0          A1 1.5 35 TFSI Sportback S-Line (CBU) (MY19)    Auto  2019   \n",
       "1          A1 1.5 35 TFSI Sportback S-Line (CBU) (MY19)    Auto  2020   \n",
       "2          A1 1.5 35 TFSI Sportback S-Line (CBU) (MY19)    Auto  2021   \n",
       "3                                           A3 1.4 TFSI    Auto  2016   \n",
       "4                                           A3 1.4 TFSI    Auto  2017   \n",
       "...                                                 ...     ...   ...   \n",
       "9870  XC90 Recharge 2.0 T8 Plug-in Hybrid AWD Inscri...    Auto  2021   \n",
       "9871  XC90 Recharge 2.0 T8 Plug-in Hybrid AWD R-Desi...    Auto  2020   \n",
       "9872  XC90 Recharge 2.0 T8 Plug-in Hybrid AWD R-Desi...    Auto  2021   \n",
       "9873  XC90 Recharge 2.0 T8 Plug-in Hybrid AWD R-Desi...    Auto  2020   \n",
       "9874  XC90 Recharge 2.0 T8 Plug-in Hybrid AWD R-Desi...    Auto  2021   \n",
       "\n",
       "     ราคากลางรถยนต์ใช้แล้ว  \n",
       "0            1,450,000 บาท  \n",
       "1            1,500,000 บาท  \n",
       "2            1,550,000 บาท  \n",
       "3              950,000 บาท  \n",
       "4            1,000,000 บาท  \n",
       "...                    ...  \n",
       "9870         3,750,000 บาท  \n",
       "9871         3,600,000 บาท  \n",
       "9872         3,750,000 บาท  \n",
       "9873         3,100,000 บาท  \n",
       "9874         3,250,000 บาท  \n",
       "\n",
       "[9867 rows x 7 columns]"
      ]
     },
     "execution_count": 31,
     "metadata": {},
     "output_type": "execute_result"
    }
   ],
   "source": [
    "dataframe = pd.DataFrame(data,columns=columns)\n",
    "dataframe = dataframe.drop_duplicates()\n",
    "dataframe"
   ]
  },
  {
   "cell_type": "code",
   "execution_count": 33,
   "metadata": {},
   "outputs": [],
   "source": [
    "dataframe.to_excel('Bluebook TTB/Bluebook ttb Sedan.xlsx')"
   ]
  },
  {
   "cell_type": "code",
   "execution_count": null,
   "metadata": {},
   "outputs": [
    {
     "name": "stderr",
     "output_type": "stream",
     "text": [
      "C:\\Users\\Admin\\AppData\\Local\\Temp/ipykernel_17344/1832949638.py:3: DeprecationWarning: find_element_by_* commands are deprecated. Please use find_element() instead\n",
      "  driver.find_element_by_partial_link_text('Next >').click()\n"
     ]
    }
   ],
   "source": [
    "# data = []\n",
    "# # loop for selecting a car detail\n",
    "# while True:\n",
    "#     try:\n",
    "#         # click on Next > button\n",
    "#         driver.find_element_by_partial_link_text('Next >').click()\n",
    "#         # reset on new page html code\n",
    "#         html = driver.page_source\n",
    "#         s = BeautifulSoup(html,'html.parser')\n",
    "#         # get link from every car data\n",
    "#         rows = s.find_all('tr',{'style':'cursor:pointer '})\n",
    "#         links = [i['onclick'][11:-16] for i in rows]\n",
    "        \n",
    "#         for i in links:\n",
    "#             url = 'https://bluebook.ttbbank.com/'+i\n",
    "#             url\n",
    "#             html_source = urllib.request.urlopen(url)\n",
    "#             l = BeautifulSoup(html_source,'html.parser')\n",
    "#             l.find_all('td',{'class':'font_normal_black'})\n",
    "#             detail_of_car = [i.text.strip() for i in l.find_all('td',{'class':'font_orange'})]\n",
    "#             data.append(detail_of_car)\n",
    "#     except:\n",
    "#         break"
   ]
  }
 ],
 "metadata": {
  "interpreter": {
   "hash": "183bbf6827d058c2a2fb0f4acdc0420849dda2b4380af0e437e38c64d798d8b7"
  },
  "kernelspec": {
   "display_name": "Python 3.8.10 64-bit ('base': conda)",
   "language": "python",
   "name": "python3"
  },
  "language_info": {
   "codemirror_mode": {
    "name": "ipython",
    "version": 3
   },
   "file_extension": ".py",
   "mimetype": "text/x-python",
   "name": "python",
   "nbconvert_exporter": "python",
   "pygments_lexer": "ipython3",
   "version": "3.8.10"
  },
  "orig_nbformat": 4
 },
 "nbformat": 4,
 "nbformat_minor": 2
}
